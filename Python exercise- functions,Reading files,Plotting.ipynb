{
 "cells": [
  {
   "cell_type": "markdown",
   "metadata": {},
   "source": [
    "# Python exercise- functions,Reading files,Plotting"
   ]
  },
  {
   "cell_type": "markdown",
   "metadata": {},
   "source": [
    "# Question 1- Python's Counter() :"
   ]
  },
  {
   "cell_type": "code",
   "execution_count": 11,
   "metadata": {},
   "outputs": [
    {
     "name": "stdout",
     "output_type": "stream",
     "text": [
      "<class 'collections.Counter'>\n",
      "Counter({2: 3, 3: 3, 1: 2, 4: 2, 5: 2, 6: 2})\n",
      "2\n",
      "3\n",
      "No such value\n"
     ]
    }
   ],
   "source": [
    "# a)\n",
    "from collections import Counter                 # import the function Counter\n",
    "example_list = [1,2,4,3,2,5,6,3,2,1,4,3,5,6]    # Example list\n",
    "Counts = Counter(example_list)                  # Counts is the example list with the Counter function\n",
    "print(type(Counts))                             # print the type of the new example list with the Counter function\n",
    "print(Counts)                                   # print the example list with the function                                   \n",
    "print(Counts[6])                                # print the number of time 6 is appered in the example list\n",
    "print(Counts.get(2))                            # print the number of time 2 is appered in the example list\n",
    "print(Counts.get(2222,'No such value'))         # print the number of time 2222 is appered in the example list, if not- print 'no such value'"
   ]
  },
  {
   "cell_type": "code",
   "execution_count": null,
   "metadata": {},
   "outputs": [],
   "source": [
    "# b)\n",
    "# Counter is a function that stores a list/collection in which the elements are stored as dictionary keys and counted as a dictionary value.\n",
    "# ** the dict order is from the highest value to the lowest value"
   ]
  },
  {
   "cell_type": "code",
   "execution_count": null,
   "metadata": {},
   "outputs": [],
   "source": [
    "# d)\n",
    "# the Counter object similar to dictionary with key and value. "
   ]
  },
  {
   "cell_type": "code",
   "execution_count": null,
   "metadata": {},
   "outputs": [
    {
     "name": "stdout",
     "output_type": "stream",
     "text": [
      "Counter({100: 5, 95: 4, 92: 3, 96: 2, 93: 1, 91: 1, 89: 1, 88: 1})\n"
     ]
    }
   ],
   "source": [
    "# e) Additional code:\n",
    "from collections import Counter                                         # import the function Counter\n",
    "grades = [100,95,95,93,100,92,91,92,95,100,92,95,96,96,100,89,88,100]   # grades list\n",
    "Counts = Counter(grades)                                                # Counts is the grades list with the Counter function\n",
    "print(Counts)                                                           # print the grades list with the function  \n",
    "x= int(input(\"Which grade would you like to check?\"))                   # the user will give the grade he want to check\n",
    "print(Counts.get(x,'No such this grade'))                               # print the number of time the user's grade is appered in the grades list, if not- print 'no such this grade'\n"
   ]
  },
  {
   "cell_type": "markdown",
   "metadata": {},
   "source": [
    "# Question 2- Reading files with DictReader:"
   ]
  },
  {
   "cell_type": "code",
   "execution_count": 1,
   "metadata": {},
   "outputs": [],
   "source": [
    "path= \"C:/Users/Yuval/Python/2nd Year/Homework 2/\"\n",
    "file_name= \"EQwithZIP.csv\""
   ]
  },
  {
   "cell_type": "code",
   "execution_count": 2,
   "metadata": {},
   "outputs": [
    {
     "name": "stdout",
     "output_type": "stream",
     "text": [
      "<class 'csv.DictReader'>\n",
      "Columns: ['time', 'latitude', 'longitude', 'depth', 'mag', 'magType', 'nst', 'gap', 'dmin', 'rms', 'net', 'id', 'updated', 'place', 'type', 'horizontalError', 'depthError', 'magError', 'magNst', 'status', 'locationSource', 'magSource', 'ClosestZIP', 'ZipSTATE', 'ZipCITY', 'DistKMeq2zip']\n",
      " \n",
      "{'time': '2019-05-01T00:14:08.950Z', 'latitude': '39.7993', 'longitude': '-117.4575', 'depth': '4.5', 'mag': '3.1', 'magType': 'ml', 'nst': '14', 'gap': '121.42', 'dmin': '0.707', 'rms': '0.1911', 'net': 'nn', 'id': 'nn00683673', 'updated': '2019-05-01T02:35:15.040Z', 'place': '47km NW of Austin, Nevada', 'type': 'earthquake', 'horizontalError': '', 'depthError': '3.7', 'magError': '0.12', 'magNst': '8', 'status': 'reviewed', 'locationSource': 'nn', 'magSource': 'nn', 'ClosestZIP': '89310', 'ZipSTATE': 'NV', 'ZipCITY': 'Austin', 'DistKMeq2zip': '35.39945744'}\n",
      " \n",
      "{'time': '2019-04-30T20:32:28.830Z', 'latitude': '32.1195', 'longitude': '-115.0708333', 'depth': '18.83', 'mag': '3.32', 'magType': 'ml', 'nst': '22', 'gap': '152', 'dmin': '0.1829', 'rms': '0.35', 'net': 'ci', 'id': 'ci37418485', 'updated': '2019-05-01T14:58:32.018Z', 'place': '10km SW of Estacion Coahuila, B.C., MX', 'type': 'earthquake', 'horizontalError': '0.88', 'depthError': '1.12', 'magError': '0.149', 'magNst': '40', 'status': 'reviewed', 'locationSource': 'ci', 'magSource': 'ci', 'ClosestZIP': '85336', 'ZipSTATE': 'AZ', 'ZipCITY': 'Gadsden', 'DistKMeq2zip': '53.49033603'}\n",
      " \n",
      "{'time': '2019-04-30T20:31:24.160Z', 'latitude': '32.113', 'longitude': '-115.0548333', 'depth': '19.26', 'mag': '3.29', 'magType': 'ml', 'nst': '18', 'gap': '153', 'dmin': '0.1902', 'rms': '0.28', 'net': 'ci', 'id': 'ci38339119', 'updated': '2019-05-01T14:54:26.001Z', 'place': '10km SSW of Estacion Coahuila, B.C., MX', 'type': 'earthquake', 'horizontalError': '0.8', 'depthError': '0.94', 'magError': '0.124', 'magNst': '44', 'status': 'reviewed', 'locationSource': 'ci', 'magSource': 'ci', 'ClosestZIP': '85336', 'ZipSTATE': 'AZ', 'ZipCITY': 'Gadsden', 'DistKMeq2zip': '53.35061961'}\n",
      " \n",
      "{'time': '2019-04-30T17:10:49.960Z', 'latitude': '35.7973333', 'longitude': '-121.3973333', 'depth': '7.46', 'mag': '3.44', 'magType': 'ml', 'nst': '81', 'gap': '191', 'dmin': '0.1351', 'rms': '0.08', 'net': 'nc', 'id': 'nc73174665', 'updated': '2019-05-01T14:06:25.040Z', 'place': '25km NW of San Simeon, CA', 'type': 'earthquake', 'horizontalError': '0.24', 'depthError': '0.44', 'magError': '0.135', 'magNst': '60', 'status': 'reviewed', 'locationSource': 'nc', 'magSource': 'nc', 'ClosestZIP': '93928', 'ZipSTATE': 'CA', 'ZipCITY': 'Jolon', 'DistKMeq2zip': '30.09630886'}\n",
      " \n",
      "{'time': '2019-04-30T16:46:06.850Z', 'latitude': '32.1121667', 'longitude': '-115.0556667', 'depth': '19.63', 'mag': '3.29', 'magType': 'ml', 'nst': '22', 'gap': '153', 'dmin': '0.191', 'rms': '0.3', 'net': 'ci', 'id': 'ci38338823', 'updated': '2019-04-30T17:48:07.748Z', 'place': '10km SSW of Estacion Coahuila, B.C., MX', 'type': 'earthquake', 'horizontalError': '0.84', 'depthError': '0.98', 'magError': '0.162', 'magNst': '53', 'status': 'reviewed', 'locationSource': 'ci', 'magSource': 'ci', 'ClosestZIP': '85336', 'ZipSTATE': 'AZ', 'ZipCITY': 'Gadsden', 'DistKMeq2zip': '53.4699338'}\n",
      " \n",
      "{'time': '2019-04-30T10:11:02.809Z', 'latitude': '39.8116', 'longitude': '-117.448', 'depth': '3.5', 'mag': '3.1', 'magType': 'ml', 'nst': '11', 'gap': '118.76', 'dmin': '0.721', 'rms': '0.1573', 'net': 'nn', 'id': 'nn00683614', 'updated': '2019-05-01T02:05:45.292Z', 'place': '52km NW of Austin, Nevada', 'type': 'earthquake', 'horizontalError': '', 'depthError': '2.9', 'magError': '0.24', 'magNst': '6', 'status': 'reviewed', 'locationSource': 'nn', 'magSource': 'nn', 'ClosestZIP': '89310', 'ZipSTATE': 'NV', 'ZipCITY': 'Austin', 'DistKMeq2zip': '33.82598313'}\n",
      " \n",
      "{'time': '2019-04-30T08:06:51.610Z', 'latitude': '23.6627', 'longitude': '-63.0176', 'depth': '10', 'mag': '4.6', 'magType': 'mb', 'nst': '', 'gap': '163', 'dmin': '5.584', 'rms': '0.71', 'net': 'us', 'id': 'us70003ehc', 'updated': '2019-04-30T12:07:51.040Z', 'place': 'North Atlantic Ocean', 'type': 'earthquake', 'horizontalError': '9.2', 'depthError': '1.9', 'magError': '0.032', 'magNst': '300', 'status': 'reviewed', 'locationSource': 'us', 'magSource': 'us', 'ClosestZIP': '00830', 'ZipSTATE': 'VI', 'ZipCITY': 'St John', 'DistKMeq2zip': '619.5326667'}\n",
      " \n",
      "{'time': '2019-04-30T06:02:56.995Z', 'latitude': '39.7127', 'longitude': '-117.4548', 'depth': '6.4', 'mag': '3.5', 'magType': 'ml', 'nst': '10', 'gap': '70.78', 'dmin': '0.652', 'rms': '0.2498', 'net': 'nn', 'id': 'nn00683604', 'updated': '2019-05-01T06:04:00.333Z', 'place': '41km NW of Austin, Nevada', 'type': 'earthquake', 'horizontalError': '', 'depthError': '6.2', 'magError': '0.31', 'magNst': '5', 'status': 'reviewed', 'locationSource': 'nn', 'magSource': 'nn', 'ClosestZIP': '89310', 'ZipSTATE': 'NV', 'ZipCITY': 'Austin', 'DistKMeq2zip': '43.20495882'}\n",
      " \n",
      "{'time': '2019-04-30T04:51:25.129Z', 'latitude': '36.6904', 'longitude': '-97.6913', 'depth': '4.54', 'mag': '3.3', 'magType': 'mb_lg', 'nst': '', 'gap': '48', 'dmin': '0.21', 'rms': '0.25', 'net': 'us', 'id': 'us70003ef7', 'updated': '2019-04-30T11:52:34.395Z', 'place': '13km SSE of Medford, Oklahoma', 'type': 'earthquake', 'horizontalError': '0.9', 'depthError': '3.6', 'magError': '0.047', 'magNst': '117', 'status': 'reviewed', 'locationSource': 'us', 'magSource': 'us', 'ClosestZIP': '74643', 'ZipSTATE': 'OK', 'ZipCITY': 'Lamont', 'DistKMeq2zip': '11.90265714'}\n",
      " \n",
      "{'time': '2019-04-29T17:37:01.330Z', 'latitude': '37.4186667', 'longitude': '-118.3635', 'depth': '7.25', 'mag': '3.8', 'magType': 'mw', 'nst': '39', 'gap': '86', 'dmin': '0.05315', 'rms': '0.06', 'net': 'nc', 'id': 'nc73174010', 'updated': '2019-04-30T22:47:42.043Z', 'place': '6km NE of Dixon Lane-Meadow Creek, CA', 'type': 'earthquake', 'horizontalError': '0.25', 'depthError': '0.66', 'magError': '', 'magNst': '5', 'status': 'reviewed', 'locationSource': 'nc', 'magSource': 'nc', 'ClosestZIP': '93512', 'ZipSTATE': 'CA', 'ZipCITY': 'Benton', 'DistKMeq2zip': '24.65633163'}\n",
      " \n",
      "Read 10 earthquakes\n"
     ]
    }
   ],
   "source": [
    "# a)\n",
    "import csv\n",
    "\n",
    "with open(path + file_name, 'rt', encoding='utf-8-sig') as csv_file:\n",
    "    EQ_reader = csv.DictReader(csv_file)\n",
    "    print(type(EQ_reader))\n",
    "    column_names = EQ_reader.fieldnames\n",
    "    print ('Columns: {0}'.format(column_names))\n",
    "    print(\" \")\n",
    "    row_counter = 0\n",
    "    for current_row in EQ_reader:\n",
    "        row_counter += 1\n",
    "        print(current_row)                                             # print all the columns\n",
    "        print(\" \")\n",
    "        if row_counter == 10:                                          # print only the first 10 lines of the CSV file\n",
    "            break\n",
    "    print ('Read {0:d} earthquakes'.format(row_counter))"
   ]
  },
  {
   "cell_type": "code",
   "execution_count": null,
   "metadata": {},
   "outputs": [],
   "source": [
    "# b)\n",
    "column_names_type= type(column_names)\n",
    "print(column_names_type)\n",
    "# The variable column_names is list"
   ]
  },
  {
   "cell_type": "code",
   "execution_count": null,
   "metadata": {},
   "outputs": [],
   "source": [
    "# c)\n",
    "# This method of reading files implements classes to read and write tabular data in CSV format. it allows to read data from file which was generate by Excel, without knowing the precise details and without even using the Excel program. \n",
    "# This metohd is designed to work out of the box with Excel-generate CSV files, it is more easily adapted to work with a variety of CSV formats, it's easy to import into a spreadsheet or another storage database, it's more better to organize large amounts of data.  "
   ]
  },
  {
   "cell_type": "code",
   "execution_count": null,
   "metadata": {},
   "outputs": [],
   "source": [
    "# d) New code: \n",
    "import csv\n",
    "\n",
    "with open(path + file_name, 'rt', encoding='utf-8-sig') as csv_file:\n",
    "    EQ_reader = csv.DictReader(csv_file)\n",
    "    print(type(EQ_reader))\n",
    "    column_names = EQ_reader.fieldnames\n",
    "    print ('Columns: {0}'.format(column_names))\n",
    "    print(\" \")\n",
    "    row_counter = 0\n",
    "    for current_row in EQ_reader:\n",
    "        row_counter += 1\n",
    "        if row_counter % 2 == 0:                                                     # print only the odd lines\n",
    "            print(\"mag:\",current_row[\"mag\"],\"ZipSTATE:\",current_row[\"ZipSTATE\"])     # print the columns and value of= mag,ZipSTATE\n",
    "            print(\" \")\n",
    "            if row_counter == 100:                                                   # print up to line 100 of the file\n",
    "                 break"
   ]
  },
  {
   "cell_type": "markdown",
   "metadata": {},
   "source": [
    "# Question 3- Reading the IMDB Dataset:"
   ]
  },
  {
   "cell_type": "code",
   "execution_count": 5,
   "metadata": {},
   "outputs": [],
   "source": [
    "path= \"C:/Users/Yuval/Python/2nd Year/Homework 2/\"\n",
    "file_name= \"IMDB.txt\""
   ]
  },
  {
   "cell_type": "code",
   "execution_count": 6,
   "metadata": {},
   "outputs": [
    {
     "name": "stdout",
     "output_type": "stream",
     "text": [
      "Columns: ['Votes', 'Rank', 'Title', 'Year']\n",
      "364\n",
      "759\n",
      "57\n",
      "507\n",
      "551\n",
      "29\n",
      "47\n",
      "819\n",
      "867\n",
      "50\n",
      "140\n"
     ]
    }
   ],
   "source": [
    "# b)\n",
    "import csv\n",
    "\n",
    "file_name = \"IMDB.txt\"\n",
    "with open(path + file_name, 'rt', encoding='utf-8-sig') as imdb_file:\n",
    "    imdb_reader = csv.DictReader(imdb_file, delimiter = '\\t')               # delimiter with new line\n",
    "    column_names = imdb_reader.fieldnames                                   # imdb_reader\n",
    "    print ('Columns: {0}'.format(column_names))                             \n",
    "    for line_number, current_row in enumerate(imdb_reader):                 # enumerate function\n",
    "        print(current_row[\"Votes\"])\n",
    "        if line_number == 10:\n",
    "            break"
   ]
  },
  {
   "cell_type": "code",
   "execution_count": null,
   "metadata": {},
   "outputs": [],
   "source": [
    "# c)\n",
    "import csv\n",
    "\n",
    "file_name = \"IMDB.txt\"\n",
    "with open(path + file_name, 'rt', encoding='utf-8-sig') as imdb_file:                                                             # read the IMDB file     \n",
    "    imdb_reader = csv.DictReader(imdb_file, delimiter = '\\t')                                                                 \n",
    "    column_names = imdb_reader.fieldnames\n",
    "    with open(path+ \"IMDB_Rank_above_9.txt\",'w',encoding='utf-8-sig') as new_file:                                                # write the IMDB to a new file=IMDB_Rank_above_9.txt \n",
    "        imdb_writer = csv.writer(new_file, delimiter = '\\t')  \n",
    "        imdb_writer.writerow(['Votes','Rank','Title','Year'])                                                                     # write the first line of titles in the new file\n",
    "        movies_count = 0\n",
    "        for line_number, current_row in enumerate(imdb_reader):                 \n",
    "            if float(current_row[\"Rank\"] ) > 9:                                                                                   # looking for the relevant data which the movie's rank above 9\n",
    "                print(current_row[\"Votes\"],current_row[\"Rank\"],current_row[\"Title\"],current_row[\"Year\"])                          # printing here the relevant data\n",
    "                imdb_writer.writerow([current_row[\"Votes\"],current_row[\"Rank\"],current_row[\"Title\"],current_row[\"Year\"]])         # write the relevant data in the new file\n",
    "                movies_count += 1\n",
    "        print(\" \")\n",
    "        print (movies_count,\"movies\")                                                                                             # print the amount of movies"
   ]
  },
  {
   "cell_type": "code",
   "execution_count": null,
   "metadata": {},
   "outputs": [],
   "source": [
    "# d) \n",
    "# The calculation of the movies amount that in the new file was through the count variable,which increases each time by 1.\n",
    "# In the output above we saw the result = 18635 movies. "
   ]
  },
  {
   "cell_type": "markdown",
   "metadata": {},
   "source": [
    "# Question 4- Calculating the desired statistics:"
   ]
  },
  {
   "cell_type": "code",
   "execution_count": null,
   "metadata": {},
   "outputs": [],
   "source": [
    "path= \"C:/Users/Yuval/Python/Homework 2/\"\n",
    "file_name= \"IMDB.txt\""
   ]
  },
  {
   "cell_type": "code",
   "execution_count": null,
   "metadata": {},
   "outputs": [],
   "source": [
    "import csv\n",
    "from collections import Counter \n",
    "\n",
    "file_name= \"IMDB.txt\"\n",
    "\n",
    "TotalMovies=Counter()\n",
    "TotalRating=Counter()\n",
    "TotalVotes= Counter()\n",
    "\n",
    "with open(path + file_name, 'rt', encoding='utf-8-sig') as imdb_file:\n",
    "    imdb_reader = csv.DictReader(imdb_file, delimiter = '\\t')\n",
    "    for line_number, current_row in enumerate(imdb_reader): \n",
    "        rank= float(current_row[\"Rank\"])\n",
    "        year= int (current_row[\"Year\"])\n",
    "        votes= int(current_row[\"Votes\"])                                                                        \n",
    "        \n",
    "        TotalMovies[year] += 1\n",
    "        TotalRating[year] += rank\n",
    "        TotalVotes[year]  += votes\n",
    "        \n",
    "with open(path+'MyMoviesStats.csv','w') as f:\n",
    "    csv_writer= csv.writer(f)\n",
    "    csv_writer.writerow(['Year','Number of movies','Mean rating','Mean number of votes'])\n",
    "    for a in TotalMovies:\n",
    "        csv_writer.writerow( [ a,TotalMovies[a],TotalRating[a]/TotalMovies[a],TotalVotes[a]/TotalMovies[a] ] )\n",
    "    \n",
    "    "
   ]
  },
  {
   "cell_type": "markdown",
   "metadata": {},
   "source": [
    "# Question 5- Plotting the results:"
   ]
  },
  {
   "cell_type": "code",
   "execution_count": 15,
   "metadata": {},
   "outputs": [
    {
     "data": {
      "image/png": "[encoded data removed]",
      "text/plain": [
       "<Figure size 432x288 with 1 Axes>"
      ]
     },
     "metadata": {
      "needs_background": "light"
     },
     "output_type": "display_data"
    },
    {
     "data": {
      "image/png": "[encoded data removed]",
      "text/plain": [
       "<Figure size 432x288 with 1 Axes>"
      ]
     },
     "metadata": {
      "needs_background": "light"
     },
     "output_type": "display_data"
    },
    {
     "data": {
      "image/png": "[encoded data removed]",
      "text/plain": [
       "<Figure size 432x288 with 1 Axes>"
      ]
     },
     "metadata": {
      "needs_background": "light"
     },
     "output_type": "display_data"
    }
   ],
   "source": [
    "import matplotlib.pyplot as plt\n",
    "%matplotlib inline\n",
    "\n",
    "Year_to_plot= [];\n",
    "Average_Rating_to_plot= [];\n",
    "Average_Votes_to_plot= [];\n",
    "Number_of_movies= [];\n",
    "for a in TotalRating:\n",
    "    \n",
    "    Year_to_plot.append(a)\n",
    "    Average_Rating_to_plot.append(TotalRating[a]/TotalMovies[a])\n",
    "    Average_Votes_to_plot.append(TotalVotes[a]/TotalMovies[a])\n",
    "    Number_of_movies.append(TotalMovies[a])\n",
    "    \n",
    "plt.scatter(Year_to_plot,Average_Rating_to_plot)\n",
    "plt.xlabel('Year')\n",
    "plt.ylabel('Average Rating')\n",
    "plt.show()\n",
    "\n",
    "plt.scatter(Year_to_plot,Average_Votes_to_plot)\n",
    "plt.xlabel('Year')\n",
    "plt.ylabel('Average number of votes')\n",
    "plt.show()\n",
    "\n",
    "plt.scatter(Year_to_plot,Number_of_movies)\n",
    "plt.xlabel('Year')\n",
    "plt.ylabel('Number of movies')\n",
    "plt.show()"
   ]
  },
  {
   "cell_type": "code",
   "execution_count": null,
   "metadata": {},
   "outputs": [],
   "source": [
    "# Insights from the graphs:\n",
    "# - The average rating for movies has increased significantly over the years 1874-2016\n",
    "# - The average number of votes remains stable over the years 1874-2016\n",
    "# - The number of movies each year has increased significantly over the years 1874-2016 "
   ]
  },
  {
   "cell_type": "markdown",
   "metadata": {},
   "source": [
    "# Question 6- My insights:"
   ]
  },
  {
   "cell_type": "code",
   "execution_count": null,
   "metadata": {},
   "outputs": [],
   "source": [
    "import matplotlib.pyplot as plt\n",
    "%matplotlib inline\n",
    "\n",
    "Year_to_plot= [];\n",
    "Number_Rating_to_plot= [];\n",
    "Number_Votes_to_plot= [];\n",
    "Number_of_movies= [];\n",
    "Average_Rating_to_plot= [];\n",
    "Average_Votes_to_plot= [];\n",
    "for a in TotalRating:\n",
    "    Year_to_plot.append(a)\n",
    "    Number_Rating_to_plot.append(TotalRating[a])\n",
    "    Number_Votes_to_plot.append(TotalVotes[a])\n",
    "    Number_of_movies.append(TotalMovies[a])\n",
    "    Average_Rating_to_plot.append(TotalRating[a]/TotalMovies[a])\n",
    "    Average_Votes_to_plot.append(TotalVotes[a]/TotalMovies[a])\n",
    "    \n",
    "plt.scatter(Number_of_movies,Number_Rating_to_plot)\n",
    "plt.xlabel('Number of movies')\n",
    "plt.ylabel('Number of Rating')\n",
    "plt.show()\n",
    "\n",
    "plt.scatter(Average_Rating_to_plot,Average_Votes_to_plot)\n",
    "plt.xlabel('Average Rating')\n",
    "plt.ylabel('Average number of votes')\n",
    "plt.show()"
   ]
  },
  {
   "cell_type": "code",
   "execution_count": null,
   "metadata": {},
   "outputs": [],
   "source": []
  },
  {
   "cell_type": "code",
   "execution_count": null,
   "metadata": {},
   "outputs": [],
   "source": [
    "# Insights from the graphs:\n",
    "# - The number of rating as a function of the number of movies is on the rise between the years 1874-2016.\n",
    "# - The average number of votes is standing on 100-200,which gave the average rating of above 6.5."
   ]
  }
 ],
 "metadata": {
  "kernelspec": {
   "display_name": "Python 3",
   "language": "python",
   "name": "python3"
  },
  "language_info": {
   "codemirror_mode": {
    "name": "ipython",
    "version": 3
   },
   "file_extension": ".py",
   "mimetype": "text/x-python",
   "name": "python",
   "nbconvert_exporter": "python",
   "pygments_lexer": "ipython3",
   "version": "3.8.5"
  }
 },
 "nbformat": 4,
 "nbformat_minor": 4
}
