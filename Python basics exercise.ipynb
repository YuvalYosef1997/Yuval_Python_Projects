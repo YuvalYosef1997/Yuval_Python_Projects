{
 "cells": [
  {
   "cell_type": "markdown",
   "metadata": {},
   "source": [
    "## Python Basics"
   ]
  },
  {
   "cell_type": "markdown",
   "metadata": {},
   "source": [
    "### some examples"
   ]
  },
  {
   "cell_type": "code",
   "execution_count": 1,
   "metadata": {},
   "outputs": [
    {
     "name": "stdout",
     "output_type": "stream",
     "text": [
      "15\n"
     ]
    }
   ],
   "source": [
    "# to find the length of a string, use the function len(string)\n",
    "some_string = \"hi how are you?\"\n",
    "print(len(some_string))"
   ]
  },
  {
   "cell_type": "code",
   "execution_count": 7,
   "metadata": {},
   "outputs": [
    {
     "name": "stdout",
     "output_type": "stream",
     "text": [
      "3\n"
     ]
    }
   ],
   "source": [
    "# to find the length of a list, use the function len(list)\n",
    "some_list = [1,5,\"hi\"]\n",
    "print(len(some_list))"
   ]
  },
  {
   "cell_type": "code",
   "execution_count": 5,
   "metadata": {},
   "outputs": [
    {
     "data": {
      "text/plain": [
       "'ow are you?'"
      ]
     },
     "execution_count": 5,
     "metadata": {},
     "output_type": "execute_result"
    }
   ],
   "source": [
    "# to index from some element to the end of a string/list, use colon :\n",
    "some_string[4:]"
   ]
  },
  {
   "cell_type": "code",
   "execution_count": 13,
   "metadata": {},
   "outputs": [
    {
     "data": {
      "text/plain": [
       "'hi'"
      ]
     },
     "execution_count": 13,
     "metadata": {},
     "output_type": "execute_result"
    }
   ],
   "source": [
    "# you can also index in reverse order:\n",
    "some_list[-1]"
   ]
  },
  {
   "cell_type": "markdown",
   "metadata": {},
   "source": [
    "### fill in your code solutions according to the instructions\n"
   ]
  },
  {
   "cell_type": "code",
   "execution_count": 1,
   "metadata": {},
   "outputs": [
    {
     "name": "stdout",
     "output_type": "stream",
     "text": [
      "10 400\n",
      "20 300\n",
      "30 200\n",
      "40 100\n"
     ]
    }
   ],
   "source": [
    "# 1. Given a two Python list.\n",
    "# Iterate both lists simultaneously such that list1 should display item in original order and list2 in reverse order\n",
    "list1 = [10, 20, 30, 40]\n",
    "list2 = [100, 200, 300, 400]\n",
    "\n",
    "# Expected output:\n",
    "# 10 400\n",
    "# 20 300\n",
    "# 30 200\n",
    "# 40 100\n",
    "\n",
    "# +++your code here+++\n",
    "list2_reverse= list2[::-1]                # list2 in a reverse order\n",
    "for i,h in zip(list1,list2_reverse):\n",
    "    print(i,h)"
   ]
  },
  {
   "cell_type": "code",
   "execution_count": null,
   "metadata": {},
   "outputs": [],
   "source": []
  },
  {
   "cell_type": "code",
   "execution_count": 2,
   "metadata": {},
   "outputs": [
    {
     "name": "stdout",
     "output_type": "stream",
     "text": [
      "['Mike', 'Emma', 'Kelly', 'Brad']\n"
     ]
    }
   ],
   "source": [
    "# 2. Remove empty strings from the list of strings\n",
    "\n",
    "list1 = [\"Mike\", \"\", \"Emma\", \"Kelly\", \"\", \"Brad\"]\n",
    "\n",
    "# Expected output:\n",
    "# [\"Mike\", \"Emma\", \"Kelly\", \"Brad\"]\n",
    "\n",
    "# +++your code here+++\n",
    "while \"\" in list1:                      # while loop\n",
    "    list1.remove(\"\")                    # remove empty strings from this list1\n",
    "print(list1)"
   ]
  },
  {
   "cell_type": "code",
   "execution_count": null,
   "metadata": {},
   "outputs": [],
   "source": []
  },
  {
   "cell_type": "code",
   "execution_count": 3,
   "metadata": {},
   "outputs": [
    {
     "data": {
      "text/plain": [
       "[5, 10, 15, 200, 25, 50, 20]"
      ]
     },
     "execution_count": 3,
     "metadata": {},
     "output_type": "execute_result"
    }
   ],
   "source": [
    "# 3. Given a Python list, find value 20 in the list,\n",
    "# and if it is present, replace it with 200. Only update the first occurrence of a value\n",
    "\n",
    "list1 = [5, 10, 15, 20, 25, 50, 20]\n",
    "\n",
    "# Expected output:\n",
    "# list1 = [5, 10, 15, 200, 25, 50, 20]\n",
    "\n",
    "# +++your code here+++\n",
    "new_index= list1.index(20)                    \n",
    "list1[new_index]= 200                        # make a new index in this list1 -- replace value 20 to 200. \n",
    "list1"
   ]
  },
  {
   "cell_type": "code",
   "execution_count": null,
   "metadata": {},
   "outputs": [],
   "source": []
  },
  {
   "cell_type": "code",
   "execution_count": 26,
   "metadata": {},
   "outputs": [
    {
     "name": "stdout",
     "output_type": "stream",
     "text": [
      "hailing\n",
      "swimingly\n",
      "do\n"
     ]
    }
   ],
   "source": [
    "# 4. we shall create a function named: verbing \n",
    "# Given a string, if its length is at least 3, add 'ing' to its end.\n",
    "# Unless it already ends in 'ing', in which case add 'ly' instead.\n",
    "# If the string length is less than 3, leave it unchanged.\n",
    "# Return the resulting string.\n",
    "\n",
    "# examples:\n",
    "# 'hail' -> 'hailing'\n",
    "# 'swiming' -> 'swimingly'\n",
    "# do -> do\n",
    "\n",
    "def verbing(s):\n",
    "    # +++your code here+++\n",
    "    if len(s)>=3:                               # if the string length is at least 3                \n",
    "        if s[-3:]==\"ing\":                       # if the string ends with 'ing'\n",
    "            print(s+\"ly\")\n",
    "        else:\n",
    "            print(s+\"ing\")\n",
    "    else:\n",
    "        print (s)\n",
    "\n",
    "verbing(\"hail\")\n",
    "verbing(\"swiming\")\n",
    "verbing(\"do\")"
   ]
  },
  {
   "cell_type": "code",
   "execution_count": null,
   "metadata": {},
   "outputs": [],
   "source": []
  },
  {
   "cell_type": "code",
   "execution_count": 27,
   "metadata": {},
   "outputs": [
    {
     "data": {
      "text/plain": [
       "'This movie is good'"
      ]
     },
     "execution_count": 27,
     "metadata": {},
     "output_type": "execute_result"
    }
   ],
   "source": [
    "# 5. we shall create a function named: not_bad \n",
    "# Given a string, find the first appearance of the substring 'not' and 'bad'. If the 'bad' follows\n",
    "# the 'not', replace the whole 'not'...'bad' substring with 'good'.\n",
    "# Return the resulting string.\n",
    "# So 'This dinner is not that bad!' yields: This dinner is good!\n",
    "\n",
    "# examples:\n",
    "# 'This movie is not so bad' -> 'This movie is good'\n",
    "# 'This dinner is not that bad!' -> 'This dinner is good!'\n",
    "# 'This tea is not hot' -> 'This tea is not hot'\n",
    "# \"It's bad yet not\" -> \"It's bad yet not\"\n",
    "\n",
    "def not_bad(s):\n",
    "    # +++your code here+++\n",
    "    find_not= s.find('not')\n",
    "    find_bad= s.find('bad')\n",
    "    if find_bad > find_not:                                    # if the 'bad' follows the 'not' in this string\n",
    "        s= s.replace(s[find_not:(find_bad+3)],\"good\")          # replace the whole 'not'..'bad' with 'good', in this string\n",
    "    \n",
    "    return s\n",
    "\n",
    "not_bad(\"This movie is not so bad\")"
   ]
  },
  {
   "cell_type": "code",
   "execution_count": null,
   "metadata": {},
   "outputs": [],
   "source": []
  },
  {
   "cell_type": "code",
   "execution_count": 2,
   "metadata": {},
   "outputs": [
    {
     "data": {
      "text/plain": [
       "{'a': 0,\n",
       " 'b': 1,\n",
       " 'c': 2,\n",
       " 'd': 3,\n",
       " 'e': 4,\n",
       " 'f': 5,\n",
       " 'g': 6,\n",
       " 'h': 7,\n",
       " 'i': 8,\n",
       " 'j': 9,\n",
       " 'k': 10,\n",
       " 'l': 11,\n",
       " 'm': 12,\n",
       " 'n': 13,\n",
       " 'o': 14,\n",
       " 'p': 15,\n",
       " 'q': 16,\n",
       " 'r': 17,\n",
       " 's': 18,\n",
       " 't': 19,\n",
       " 'u': 20,\n",
       " 'v': 21,\n",
       " 'w': 22,\n",
       " 'x': 23,\n",
       " 'y': 24,\n",
       " 'z': 25}"
      ]
     },
     "execution_count": 2,
     "metadata": {},
     "output_type": "execute_result"
    }
   ],
   "source": [
    "# 6. you are given the following string of all alphabetical letters:\n",
    "all_letters_string = \"abcdefghijklmnopqrstuvwxyz\"\n",
    "\n",
    "# we shall create a function named create_letter_dict(all_letters_string)\n",
    "# it recieves the all_letters string\n",
    "# it returns a dictionary the contains a mapping of the location of each letter to a number, as follows:\n",
    "# {\"a\":0,\"b\":1,\"c\":2,...,\"z\":25}\n",
    "\n",
    "def create_letter_dict(all_letters_string):\n",
    "    # +++your code here+++\n",
    "    new_dict= {}\n",
    "    for i in range(len(all_letters_string)):                                 # range of length of all_letters_string\n",
    "        new_dict[all_letters_string[i]]= i                                    # in the new dictionary-- letter=key,number=value\n",
    "    \n",
    "    return new_dict\n",
    "\n",
    "create_letter_dict(all_letters_string)"
   ]
  },
  {
   "cell_type": "code",
   "execution_count": null,
   "metadata": {},
   "outputs": [],
   "source": []
  },
  {
   "cell_type": "code",
   "execution_count": 29,
   "metadata": {},
   "outputs": [
    {
     "name": "stdout",
     "output_type": "stream",
     "text": [
      "4\n",
      "7\n"
     ]
    }
   ],
   "source": [
    "# 7. we shall create a function named string_to_numeric(s,all_letters_string)\n",
    "# it recieves two inputs: s which is a string, and all_letters_string\n",
    "# inside the function:\n",
    "# you should also call the function you created earlier and get the dictionary for your use inside the function\n",
    "# you should use that dictionary to map every character in the inputs string s to its number, and sum them all up\n",
    "# in addition, if the string s will contain a character that is not in all_letters_string, you should map it to the number 1\n",
    "\n",
    "# example:\n",
    "# given the string \"adb\" the function will return 4 (becaues a=0, d=3, b=1 that is 0+3+1=4)\n",
    "# given the string \"adb@ #\" the function will return 7 (becaues a=0, d=3, b=1. and @ the space and # =1 that is 0+3+1+1+1+1=7)\n",
    "\n",
    "def string_to_numeric(s,all_letters_string):\n",
    "    map_dict = create_letter_dict(all_letters_string)\n",
    "    # print(type(map_dict))\n",
    "    # +++your code here++\n",
    "    sum= 0                                            \n",
    "    for letter in s:                                    \n",
    "            x= map_dict.get(letter,1)                    # if letter from the string appears in the map dictionary, it gets the numeric value, else, it gets the number 1.\n",
    "            sum+= x                                      # sum get the numeric value x\n",
    "            \n",
    "    return sum\n",
    "\n",
    "\n",
    "print ( string_to_numeric(\"adb\",all_letters_string) )\n",
    "print ( string_to_numeric(\"adb@ #\",all_letters_string) )"
   ]
  },
  {
   "cell_type": "code",
   "execution_count": null,
   "metadata": {},
   "outputs": [],
   "source": []
  },
  {
   "cell_type": "code",
   "execution_count": 30,
   "metadata": {},
   "outputs": [
    {
     "name": "stdout",
     "output_type": "stream",
     "text": [
      "3\n",
      "2\n",
      "1\n"
     ]
    }
   ],
   "source": [
    "# 8. we shall create a function named: match_ends\n",
    "# Given a list of strings, return the count of the number of\n",
    "# strings where the string length is 2 or more and the first\n",
    "# and last characters of the string are the same.\n",
    "# Note: python does not have a ++ operator, but += works.\n",
    "\n",
    "# examples:\n",
    "# ['aba', 'xyz', 'aa', 'x', 'bbb'] -> 3\n",
    "# ['', 'x', 'xy', 'xyx', 'xx'] -> 2\n",
    "# ['aaa', 'be', 'abc', 'hello'] -> 1\n",
    "\n",
    "\n",
    "def match_ends(words):\n",
    "    # +++your code here+++\n",
    "    count= 0 \n",
    "    for i in words:\n",
    "        if len(i) >=2 and i[0] == i[-1]:                  # if the string length is at least 2 and the first and last character are the same in the string.\n",
    "            count += 1                                    # counting method\n",
    "    return count\n",
    "\n",
    "print( match_ends(['aba', 'xyz', 'aa', 'x', 'bbb']) )\n",
    "print( match_ends(['', 'x', 'xy', 'xyx', 'xx']) )\n",
    "print( match_ends(['aaa', 'be', 'abc', 'hello']))"
   ]
  },
  {
   "cell_type": "code",
   "execution_count": null,
   "metadata": {},
   "outputs": [],
   "source": []
  },
  {
   "cell_type": "code",
   "execution_count": 31,
   "metadata": {},
   "outputs": [
    {
     "name": "stdout",
     "output_type": "stream",
     "text": [
      "[1, 2, 3]\n",
      "[2, 3]\n",
      "[2, 3, 2, 4]\n",
      "[]\n"
     ]
    }
   ],
   "source": [
    "# 9. we shall create a function named: remove_adjacent\n",
    "# Given a list of numbers, return a list where \n",
    "# all adjacent == elements have been reduced to a single element,\n",
    "# so [1, 2, 2, 3] returns [1, 2, 3]. You may create a new list or\n",
    "# modify the passed in list.\n",
    "\n",
    "# examples\n",
    "# [1, 2, 2, 3] -> [1, 2, 3]\n",
    "# [2, 2, 3, 3, 3] -> [2, 3]\n",
    "# [2,3,2,2,4] -> [2,3,2,4]\n",
    "# [] -> []\n",
    "\n",
    "def remove_adjacent(nums):\n",
    "    # +++your code here+++\n",
    "    new_nums = []\n",
    "    for i in nums:\n",
    "        if len(new_nums) ==0 or i != new_nums[-1]:                # if the length of this string=0 or number in the nums is not equal to its adjacent number. \n",
    "                new_nums.append(i)\n",
    "                \n",
    "    return new_nums\n",
    "\n",
    "print ( remove_adjacent([1, 2, 2, 3]) )\n",
    "print ( remove_adjacent([2, 2, 3, 3, 3]) )\n",
    "print ( remove_adjacent ([2,3,2,2,4]) )\n",
    "print ( remove_adjacent([]))"
   ]
  },
  {
   "cell_type": "code",
   "execution_count": null,
   "metadata": {},
   "outputs": [],
   "source": []
  }
 ],
 "metadata": {
  "kernelspec": {
   "display_name": "Python 3",
   "language": "python",
   "name": "python3"
  },
  "language_info": {
   "codemirror_mode": {
    "name": "ipython",
    "version": 3
   },
   "file_extension": ".py",
   "mimetype": "text/x-python",
   "name": "python",
   "nbconvert_exporter": "python",
   "pygments_lexer": "ipython3",
   "version": "3.8.5"
  }
 },
 "nbformat": 4,
 "nbformat_minor": 4
}
