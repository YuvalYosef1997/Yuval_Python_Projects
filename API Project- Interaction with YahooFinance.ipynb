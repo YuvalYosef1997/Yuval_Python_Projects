{
 "cells": [
  {
   "cell_type": "markdown",
   "metadata": {},
   "source": [
    "# API Project:"
   ]
  },
  {
   "cell_type": "markdown",
   "metadata": {},
   "source": [
    "# Stage 1"
   ]
  },
  {
   "cell_type": "code",
   "execution_count": null,
   "metadata": {},
   "outputs": [],
   "source": [
    "# Using API - https://pypi.org/project/yfinance/\n",
    "# (Interaction with the webstie- https://finance.yahoo.com)\n",
    "\n",
    "# This program idea:\n",
    "# Including some interaction with the Yahoo Finance website (Stock Market information web) using API, in order to investigate any stock data/information,according to the user decision, and to give him investment insights by functions,graphs,etc.   "
   ]
  },
  {
   "cell_type": "markdown",
   "metadata": {},
   "source": [
    "# Stage 2:"
   ]
  },
  {
   "cell_type": "code",
   "execution_count": 1,
   "metadata": {},
   "outputs": [
    {
     "name": "stdout",
     "output_type": "stream",
     "text": [
      "Requirement already satisfied: yfinance in c:\\users\\yuval\\anaconda3\\lib\\site-packages (0.1.63)\n",
      "Requirement already satisfied: requests>=2.20 in c:\\users\\yuval\\anaconda3\\lib\\site-packages (from yfinance) (2.24.0)\n",
      "Requirement already satisfied: pandas>=0.24 in c:\\users\\yuval\\anaconda3\\lib\\site-packages (from yfinance) (1.1.3)\n",
      "Requirement already satisfied: numpy>=1.15 in c:\\users\\yuval\\anaconda3\\lib\\site-packages (from yfinance) (1.19.2)\n",
      "Requirement already satisfied: lxml>=4.5.1 in c:\\users\\yuval\\anaconda3\\lib\\site-packages (from yfinance) (4.6.1)\n",
      "Requirement already satisfied: multitasking>=0.0.7 in c:\\users\\yuval\\anaconda3\\lib\\site-packages (from yfinance) (0.0.9)\n",
      "Requirement already satisfied: urllib3!=1.25.0,!=1.25.1,<1.26,>=1.21.1 in c:\\users\\yuval\\anaconda3\\lib\\site-packages (from requests>=2.20->yfinance) (1.25.11)\n",
      "Requirement already satisfied: certifi>=2017.4.17 in c:\\users\\yuval\\anaconda3\\lib\\site-packages (from requests>=2.20->yfinance) (2020.6.20)\n",
      "Requirement already satisfied: chardet<4,>=3.0.2 in c:\\users\\yuval\\anaconda3\\lib\\site-packages (from requests>=2.20->yfinance) (3.0.4)\n",
      "Requirement already satisfied: idna<3,>=2.5 in c:\\users\\yuval\\anaconda3\\lib\\site-packages (from requests>=2.20->yfinance) (2.10)\n",
      "Requirement already satisfied: pytz>=2017.2 in c:\\users\\yuval\\anaconda3\\lib\\site-packages (from pandas>=0.24->yfinance) (2020.1)\n",
      "Requirement already satisfied: python-dateutil>=2.7.3 in c:\\users\\yuval\\anaconda3\\lib\\site-packages (from pandas>=0.24->yfinance) (2.8.1)\n",
      "Requirement already satisfied: six>=1.5 in c:\\users\\yuval\\anaconda3\\lib\\site-packages (from python-dateutil>=2.7.3->pandas>=0.24->yfinance) (1.15.0)\n"
     ]
    }
   ],
   "source": [
    "!pip install yfinance"
   ]
  },
  {
   "cell_type": "code",
   "execution_count": 2,
   "metadata": {},
   "outputs": [],
   "source": [
    "import yfinance as yf\n",
    "import datetime\n",
    "import matplotlib.pyplot as plt\n",
    "%matplotlib inline\n",
    "\n"
   ]
  },
  {
   "cell_type": "code",
   "execution_count": 3,
   "metadata": {},
   "outputs": [],
   "source": [
    "path= \"C:/Users/Yuval/Python/Python- Final Project 1.8/\"          # Our path/location where we would like to load or save files in this program."
   ]
  },
  {
   "cell_type": "markdown",
   "metadata": {},
   "source": [
    "# Load configurations from a text file"
   ]
  },
  {
   "cell_type": "code",
   "execution_count": null,
   "metadata": {},
   "outputs": [],
   "source": [
    "# First way to investigate any stock performance and its data-- Using a text file"
   ]
  },
  {
   "cell_type": "code",
   "execution_count": 4,
   "metadata": {},
   "outputs": [
    {
     "name": "stdout",
     "output_type": "stream",
     "text": [
      "PFE\n",
      "<class 'str'>\n"
     ]
    }
   ],
   "source": [
    "# Read the information from the text file, in order to get the stock's ticker name which is within it.\n",
    "path= \"C:/Users/Yuval/Python/Python- Final Project 1.8/\"                                                  # The path/location where the configuration file is located\n",
    "file_name= \"My choice stock.txt\"       \n",
    "hFile= open(path+file_name,'rt')\n",
    "for line in hFile:\n",
    "    my_stock= line\n",
    "    print(my_stock)\n",
    "hFile.close()\n",
    "my_stock=line\n",
    "print(type(my_stock))"
   ]
  },
  {
   "cell_type": "code",
   "execution_count": null,
   "metadata": {},
   "outputs": [],
   "source": [
    "Stock= yf.Ticker(my_stock)            \n",
    "Stock.info                                 # gives the stock's (which is in the text file) extensive information about- sector,country,website,industry,logo,prices and many more information. "
   ]
  },
  {
   "cell_type": "code",
   "execution_count": null,
   "metadata": {},
   "outputs": [],
   "source": [
    "Stock.history(period=\"max\")                # gives the stock's history information- open/high/low/close value per date, etc."
   ]
  },
  {
   "cell_type": "code",
   "execution_count": null,
   "metadata": {},
   "outputs": [],
   "source": [
    "Stock.recommendations                    # gives recommendations about the stock, the grade, depends on the date and by different firms.                "
   ]
  },
  {
   "cell_type": "markdown",
   "metadata": {},
   "source": [
    "# Receiving some inputs from the user + Showing graphs"
   ]
  },
  {
   "cell_type": "code",
   "execution_count": 3,
   "metadata": {},
   "outputs": [],
   "source": [
    "# Second way to investigate any stock performance and its data-- Through receiving inputs from the user"
   ]
  },
  {
   "cell_type": "code",
   "execution_count": null,
   "metadata": {},
   "outputs": [],
   "source": [
    "# Looking for any stock information, according to the user's choice:\n",
    "\n",
    "your_stock= input(\"Which stock are you want to investigate? (Provide its Ticker name)\")    # The program gets an input from the user about the stock's ticker name.\n",
    "Stock1= yf.Ticker(your_stock)                   \n",
    "Stock1_info= Stock1.info                                                                   #  gives the stock's extensive information about- sector,country,website,industry,logo,prices and many more information.\n",
    "\n",
    "print(f'{your_stock}_extensive information:')\n",
    "Stock1_info"
   ]
  },
  {
   "cell_type": "code",
   "execution_count": 19,
   "metadata": {},
   "outputs": [
    {
     "name": "stdout",
     "output_type": "stream",
     "text": [
      "<class 'dict'>\n"
     ]
    }
   ],
   "source": [
    "print(type(Stock1_info))                               # Showing the type of the stock's info data= dictionary form"
   ]
  },
  {
   "cell_type": "code",
   "execution_count": null,
   "metadata": {},
   "outputs": [],
   "source": [
    "stock.in"
   ]
  },
  {
   "cell_type": "code",
   "execution_count": null,
   "metadata": {},
   "outputs": [],
   "source": []
  },
  {
   "cell_type": "code",
   "execution_count": 5,
   "metadata": {},
   "outputs": [
    {
     "name": "stdout",
     "output_type": "stream",
     "text": [
      "Give a range of dates on which you would like to investigate the stocks's value/history\n"
     ]
    },
    {
     "name": "stdin",
     "output_type": "stream",
     "text": [
      "From? (Format: YYYY-MM-DD) 2020-12-01\n",
      "Until? (Format: YYYY-MM-DD) 2020-12-31\n"
     ]
    },
    {
     "name": "stdout",
     "output_type": "stream",
     "text": [
      "TSLA_history information,according to your dates:\n",
      "                  Open        High         Low       Close     Volume  \\\n",
      "Date                                                                    \n",
      "2020-11-30  602.210022  607.799988  554.510010  567.599976   63003100   \n",
      "2020-12-01  597.590027  597.849976  572.049988  584.760010   40103500   \n",
      "2020-12-02  556.440002  571.539978  541.210022  568.820007   47775700   \n",
      "2020-12-03  590.020020  598.969971  582.429993  593.380005   42552000   \n",
      "2020-12-04  591.010010  599.039978  585.500000  599.039978   29401300   \n",
      "2020-12-07  604.919983  648.789978  603.049988  641.760010   56309700   \n",
      "2020-12-08  625.510010  651.280029  618.500000  649.880005   64265000   \n",
      "2020-12-09  653.690002  654.320007  588.000000  604.479980   71291200   \n",
      "2020-12-10  574.369995  627.750000  566.340027  627.070007   67083200   \n",
      "2020-12-11  615.010010  624.000000  596.799988  609.989990   46475000   \n",
      "2020-12-14  619.000000  642.750000  610.200012  639.830017   52040600   \n",
      "2020-12-15  643.280029  646.900024  623.799988  633.250000   45071500   \n",
      "2020-12-16  628.229980  632.500000  605.000000  622.770020   42095800   \n",
      "2020-12-17  628.190002  658.820007  619.500000  655.900024   56270100   \n",
      "2020-12-18  668.900024  695.000000  628.539978  695.000000  222126200   \n",
      "2020-12-21  666.239990  668.500000  646.070007  649.859985   58045300   \n",
      "2020-12-22  648.000000  649.880005  614.229980  640.340027   51716000   \n",
      "2020-12-23  632.200012  651.500000  622.570007  645.979980   33173000   \n",
      "2020-12-24  642.989990  666.090027  641.000000  661.770020   22865600   \n",
      "2020-12-28  674.510010  681.400024  660.799988  663.690002   32278600   \n",
      "2020-12-29  661.000000  669.900024  655.000000  665.989990   22910800   \n",
      "2020-12-30  672.000000  696.599976  668.359985  694.780029   42846000   \n",
      "\n",
      "            Dividends  Stock Splits  \n",
      "Date                                 \n",
      "2020-11-30          0             0  \n",
      "2020-12-01          0             0  \n",
      "2020-12-02          0             0  \n",
      "2020-12-03          0             0  \n",
      "2020-12-04          0             0  \n",
      "2020-12-07          0             0  \n",
      "2020-12-08          0             0  \n",
      "2020-12-09          0             0  \n",
      "2020-12-10          0             0  \n",
      "2020-12-11          0             0  \n",
      "2020-12-14          0             0  \n",
      "2020-12-15          0             0  \n",
      "2020-12-16          0             0  \n",
      "2020-12-17          0             0  \n",
      "2020-12-18          0             0  \n",
      "2020-12-21          0             0  \n",
      "2020-12-22          0             0  \n",
      "2020-12-23          0             0  \n",
      "2020-12-24          0             0  \n",
      "2020-12-28          0             0  \n",
      "2020-12-29          0             0  \n",
      "2020-12-30          0             0  \n"
     ]
    }
   ],
   "source": [
    "# Investigation of the stock by dates:\n",
    "print(\"Give a range of dates on which you would like to investigate the stocks's value/history\")\n",
    "since= input(\"From? (Format: YYYY-MM-DD)\")                                                        # The program gets an input from the user- from which date he want to investigate the stock. \n",
    "to= input(\"Until? (Format: YYYY-MM-DD)\")                                                          # The program gets an input from the user- until which date he want to investigate the stock.\n",
    "\n",
    "print(f'{your_stock}_history information,according to your dates:')\n",
    "history= Stock1.history(start=since,end=to)                                                       # gives the stock's history information- open/high/low/close value, according to the dates which set by the user.\n",
    "print(history)"
   ]
  },
  {
   "cell_type": "code",
   "execution_count": 6,
   "metadata": {},
   "outputs": [
    {
     "data": {
      "text/plain": [
       "Index(['Open', 'High', 'Low', 'Close', 'Volume', 'Dividends', 'Stock Splits'], dtype='object')"
      ]
     },
     "execution_count": 6,
     "metadata": {},
     "output_type": "execute_result"
    }
   ],
   "source": [
    "history.columns                                   # Showing the columns of the history information in the form of a list.                                   "
   ]
  },
  {
   "cell_type": "code",
   "execution_count": 7,
   "metadata": {},
   "outputs": [
    {
     "name": "stdout",
     "output_type": "stream",
     "text": [
      "\u001b[1mTSLA: History information graphs, according to your dates:\n",
      "\u001b[0mThe stock's Open price as a function of the date:\n"
     ]
    },
    {
     "data": {
      "image/png": "[encoded data removed]",
      "text/plain": [
       "<Figure size 720x720 with 1 Axes>"
      ]
     },
     "metadata": {
      "needs_background": "light"
     },
     "output_type": "display_data"
    }
   ],
   "source": [
    "# Using Plotting:\n",
    "\n",
    "print('\\033[1m'+f'{your_stock}: History information graphs, according to your dates:')\n",
    "print('\\033[0m'+\"The stock's Open price as a function of the date:\")\n",
    "plt.plot(history['Open'],'c-',linewidth=1.5)\n",
    "plt.xlabel('Date')\n",
    "plt.ylabel('Open')\n",
    "plt.tick_params(axis='x', labelsize=8)\n",
    "size = plt.gcf()\n",
    "size.set_size_inches(10, 10)\n",
    "plt.show()"
   ]
  },
  {
   "cell_type": "code",
   "execution_count": null,
   "metadata": {},
   "outputs": [],
   "source": []
  },
  {
   "cell_type": "code",
   "execution_count": 12,
   "metadata": {},
   "outputs": [
    {
     "name": "stdout",
     "output_type": "stream",
     "text": [
      "The stock's Volume as a function of the date:\n"
     ]
    },
    {
     "data": {
      "image/png": "[encoded data removed]",
      "text/plain": [
       "<Figure size 720x720 with 1 Axes>"
      ]
     },
     "metadata": {
      "needs_background": "light"
     },
     "output_type": "display_data"
    }
   ],
   "source": [
    "# Using Plotting:\n",
    "\n",
    "print(\"The stock's Volume as a function of the date:\")\n",
    "plt.plot(history['Volume'],'b-',linewidth=1.5)\n",
    "plt.xlabel('Date')\n",
    "plt.ylabel('Volume')\n",
    "plt.tick_params(axis='x', labelsize=8)\n",
    "size = plt.gcf()\n",
    "size.set_size_inches(10, 10)\n",
    "plt.show()"
   ]
  },
  {
   "cell_type": "code",
   "execution_count": null,
   "metadata": {},
   "outputs": [],
   "source": []
  },
  {
   "cell_type": "code",
   "execution_count": 14,
   "metadata": {},
   "outputs": [
    {
     "name": "stdout",
     "output_type": "stream",
     "text": [
      "GOOGL-Recommendations about your stock:\n"
     ]
    },
    {
     "data": {
      "text/html": [
       "<div>\n",
       "<style scoped>\n",
       "    .dataframe tbody tr th:only-of-type {\n",
       "        vertical-align: middle;\n",
       "    }\n",
       "\n",
       "    .dataframe tbody tr th {\n",
       "        vertical-align: top;\n",
       "    }\n",
       "\n",
       "    .dataframe thead th {\n",
       "        text-align: right;\n",
       "    }\n",
       "</style>\n",
       "<table border=\"1\" class=\"dataframe\">\n",
       "  <thead>\n",
       "    <tr style=\"text-align: right;\">\n",
       "      <th></th>\n",
       "      <th>Firm</th>\n",
       "      <th>To Grade</th>\n",
       "      <th>From Grade</th>\n",
       "      <th>Action</th>\n",
       "    </tr>\n",
       "    <tr>\n",
       "      <th>Date</th>\n",
       "      <th></th>\n",
       "      <th></th>\n",
       "      <th></th>\n",
       "      <th></th>\n",
       "    </tr>\n",
       "  </thead>\n",
       "  <tbody>\n",
       "    <tr>\n",
       "      <th>2014-12-17 00:00:00</th>\n",
       "      <td>Pivotal Research</td>\n",
       "      <td>Buy</td>\n",
       "      <td></td>\n",
       "      <td>up</td>\n",
       "    </tr>\n",
       "    <tr>\n",
       "      <th>2015-01-08 06:03:07</th>\n",
       "      <td>Stifel</td>\n",
       "      <td>Hold</td>\n",
       "      <td>Buy</td>\n",
       "      <td>down</td>\n",
       "    </tr>\n",
       "    <tr>\n",
       "      <th>2015-01-14 09:00:00</th>\n",
       "      <td>Credit Suisse</td>\n",
       "      <td>Outperform</td>\n",
       "      <td></td>\n",
       "      <td>main</td>\n",
       "    </tr>\n",
       "    <tr>\n",
       "      <th>2015-01-30 09:00:00</th>\n",
       "      <td>Citigroup</td>\n",
       "      <td>Buy</td>\n",
       "      <td></td>\n",
       "      <td>main</td>\n",
       "    </tr>\n",
       "    <tr>\n",
       "      <th>2015-03-02 14:04:06</th>\n",
       "      <td>Bank of America</td>\n",
       "      <td>Buy</td>\n",
       "      <td>Neutral</td>\n",
       "      <td>up</td>\n",
       "    </tr>\n",
       "    <tr>\n",
       "      <th>...</th>\n",
       "      <td>...</td>\n",
       "      <td>...</td>\n",
       "      <td>...</td>\n",
       "      <td>...</td>\n",
       "    </tr>\n",
       "    <tr>\n",
       "      <th>2021-07-28 13:19:48</th>\n",
       "      <td>Stifel</td>\n",
       "      <td>Buy</td>\n",
       "      <td></td>\n",
       "      <td>main</td>\n",
       "    </tr>\n",
       "    <tr>\n",
       "      <th>2021-07-28 14:32:13</th>\n",
       "      <td>Mizuho</td>\n",
       "      <td>Buy</td>\n",
       "      <td></td>\n",
       "      <td>main</td>\n",
       "    </tr>\n",
       "    <tr>\n",
       "      <th>2021-07-28 15:07:32</th>\n",
       "      <td>Jefferies</td>\n",
       "      <td>Buy</td>\n",
       "      <td></td>\n",
       "      <td>main</td>\n",
       "    </tr>\n",
       "    <tr>\n",
       "      <th>2021-07-28 15:11:25</th>\n",
       "      <td>JP Morgan</td>\n",
       "      <td>Overweight</td>\n",
       "      <td></td>\n",
       "      <td>main</td>\n",
       "    </tr>\n",
       "    <tr>\n",
       "      <th>2021-07-28 15:16:27</th>\n",
       "      <td>Canaccord Genuity</td>\n",
       "      <td>Buy</td>\n",
       "      <td></td>\n",
       "      <td>main</td>\n",
       "    </tr>\n",
       "  </tbody>\n",
       "</table>\n",
       "<p>247 rows × 4 columns</p>\n",
       "</div>"
      ],
      "text/plain": [
       "                                  Firm    To Grade From Grade Action\n",
       "Date                                                                \n",
       "2014-12-17 00:00:00   Pivotal Research         Buy                up\n",
       "2015-01-08 06:03:07             Stifel        Hold        Buy   down\n",
       "2015-01-14 09:00:00      Credit Suisse  Outperform              main\n",
       "2015-01-30 09:00:00          Citigroup         Buy              main\n",
       "2015-03-02 14:04:06    Bank of America         Buy    Neutral     up\n",
       "...                                ...         ...        ...    ...\n",
       "2021-07-28 13:19:48             Stifel         Buy              main\n",
       "2021-07-28 14:32:13             Mizuho         Buy              main\n",
       "2021-07-28 15:07:32          Jefferies         Buy              main\n",
       "2021-07-28 15:11:25          JP Morgan  Overweight              main\n",
       "2021-07-28 15:16:27  Canaccord Genuity         Buy              main\n",
       "\n",
       "[247 rows x 4 columns]"
      ]
     },
     "execution_count": 14,
     "metadata": {},
     "output_type": "execute_result"
    }
   ],
   "source": [
    "Recommendations= Stock1.recommendations                     # gives recommendations about the stock (the grades),depends on dates and by different firms.  \n",
    "print(f'{your_stock}-Recommendations about your stock:')\n",
    "Recommendations"
   ]
  },
  {
   "cell_type": "code",
   "execution_count": 15,
   "metadata": {},
   "outputs": [
    {
     "data": {
      "text/plain": [
       "Index(['Firm', 'To Grade', 'From Grade', 'Action'], dtype='object')"
      ]
     },
     "execution_count": 15,
     "metadata": {},
     "output_type": "execute_result"
    }
   ],
   "source": [
    "Recommendations.columns                                    # Showing the columns of the recommendations information in the form of a list."
   ]
  },
  {
   "cell_type": "markdown",
   "metadata": {},
   "source": [
    "# Creating text files"
   ]
  },
  {
   "cell_type": "code",
   "execution_count": null,
   "metadata": {},
   "outputs": [],
   "source": [
    "# Creating text_files, which includes some data about the above user's stock:\n",
    "path= \"C:/Users/Yuval/Python/Python- Final Project 1.8/\"\n",
    "history.to_csv(path+ f'{your_stock}_history data.txt',sep =\" \")                # creating textfile #1 - the stock's history information(open/high/low/close value), according to the dates which set by the user. \n",
    "Recommendations.to_csv(path+ f'{your_stock}_recommendations.txt',sep =\" \")     # creating textfile #2 - recommendations about the stock (the grades) which given by different firms.  \n"
   ]
  },
  {
   "cell_type": "code",
   "execution_count": null,
   "metadata": {},
   "outputs": [],
   "source": []
  },
  {
   "cell_type": "markdown",
   "metadata": {},
   "source": [
    "# Defining Functions"
   ]
  },
  {
   "cell_type": "code",
   "execution_count": 17,
   "metadata": {},
   "outputs": [
    {
     "name": "stdin",
     "output_type": "stream",
     "text": [
      "which stock are you want to investigate?(Provide its Ticker name) PFE\n"
     ]
    }
   ],
   "source": [
    "# 1) Define a function=information2020, that gives/prints any stock's value information in 2020 (the Covid-19 epidemic's year), gives its 2020 prices graph, and creates a text file about this data.\n",
    "# This function's purpose is to investigate the past performance of any stock in the Covid-19 epidemic year-2020.\n",
    "\n",
    "Sample= input(\"which stock are you want to investigate?(Provide its Ticker name)\")\n",
    "Sample_Stock= yf.Ticker(Sample)\n",
    "def information2020(Sample_Stock):\n",
    "    history2020= Sample_Stock.history(start=datetime.datetime(2020, 1, 1),end=datetime.datetime(2020, 12, 31))\n",
    "    print(f'{Sample}_2020 history information:')\n",
    "    print(history2020)\n",
    "    print('\\033[1m'+\"The stock's Open price journey in 2020:\")\n",
    "    plt.plot(history2020['Open'],'c-',linewidth=1.5)\n",
    "    plt.xlabel('Date')\n",
    "    plt.ylabel('Open')\n",
    "    plt.show\n",
    "    history2020.to_csv(path+ f'{Sample}_history2020 data.txt',sep =\" \")"
   ]
  },
  {
   "cell_type": "code",
   "execution_count": 20,
   "metadata": {},
   "outputs": [
    {
     "name": "stdin",
     "output_type": "stream",
     "text": [
      "which stock are you want to investigate?(Provide its Ticker name) PFE\n"
     ]
    },
    {
     "name": "stdout",
     "output_type": "stream",
     "text": [
      "PFE_2020 history information:\n",
      "                 Open       High        Low      Close    Volume  Dividends  \\\n",
      "Date                                                                          \n",
      "2019-12-31  34.636472  35.002568  34.565035  34.984711  15175703        0.0   \n",
      "2020-01-02  35.091864  35.136508  34.716836  34.948994  16514072        0.0   \n",
      "2020-01-03  34.573968  35.038288  34.529321  34.761482  14922848        0.0   \n",
      "2020-01-06  34.663259  34.823987  34.556110  34.716835  15771951        0.0   \n",
      "2020-01-07  34.931139  34.940068  34.538253  34.600758  20108107        0.0   \n",
      "...               ...        ...        ...        ...       ...        ...   \n",
      "2020-12-23  36.254479  36.881417  36.127135  36.675701  36182000        0.0   \n",
      "2020-12-24  36.636522  36.803049  36.421011  36.509174  14790100        0.0   \n",
      "2020-12-28  36.597333  36.812843  35.931214  36.068356  26993700        0.0   \n",
      "2020-12-29  36.146724  36.440599  36.038969  36.293659  23152100        0.0   \n",
      "2020-12-30  36.274071  36.479787  35.950810  35.989994  24889800        0.0   \n",
      "\n",
      "            Stock Splits  \n",
      "Date                      \n",
      "2019-12-31           0.0  \n",
      "2020-01-02           0.0  \n",
      "2020-01-03           0.0  \n",
      "2020-01-06           0.0  \n",
      "2020-01-07           0.0  \n",
      "...                  ...  \n",
      "2020-12-23           0.0  \n",
      "2020-12-24           0.0  \n",
      "2020-12-28           0.0  \n",
      "2020-12-29           0.0  \n",
      "2020-12-30           0.0  \n",
      "\n",
      "[253 rows x 7 columns]\n",
      "\u001b[1mThe stock's Open price journey in 2020:\n"
     ]
    },
    {
     "data": {
      "image/png": "[encoded data removed]",
      "text/plain": [
       "<Figure size 432x288 with 1 Axes>"
      ]
     },
     "metadata": {
      "needs_background": "light"
     },
     "output_type": "display_data"
    }
   ],
   "source": [
    "# The 'information2020' function in action:\n",
    "\n",
    "Sample= input(\"which stock are you want to investigate?(Provide its Ticker name)\")\n",
    "Sample_Stock= yf.Ticker(Sample)\n",
    "information2020(Sample_Stock)"
   ]
  },
  {
   "cell_type": "code",
   "execution_count": null,
   "metadata": {},
   "outputs": [],
   "source": []
  },
  {
   "cell_type": "code",
   "execution_count": 16,
   "metadata": {},
   "outputs": [
    {
     "name": "stdin",
     "output_type": "stream",
     "text": [
      "which stock are you want to investigate?(Provide its Ticker name) TSLA\n"
     ]
    }
   ],
   "source": [
    "# 2) Define a function= Total_Recommendations, that gives/prints any stock's total recommendations-in value counting of each type of recommendation, and creates a text file about this data.\n",
    "\n",
    "Sample1= input(\"which stock are you want to investigate?(Provide its Ticker name)\")\n",
    "Sample_Stock1= yf.Ticker(Sample1)\n",
    "def Total_Recommendations(Sample_Stock1):\n",
    "    recommendations1= Sample_Stock1.recommendations\n",
    "    counting_recommendations= recommendations1['To Grade'].value_counts()\n",
    "    print(f'{Sample1}-Total Recommendations counting about your stock:')\n",
    "    print(counting_recommendations)\n",
    "    counting_recommendations.to_csv(path+ f'{Sample1}_counting_recommendations data.txt',sep =\" \")\n",
    "    print('\\033[1m'+\"Check your new text file!\")"
   ]
  },
  {
   "cell_type": "code",
   "execution_count": 17,
   "metadata": {},
   "outputs": [
    {
     "name": "stdin",
     "output_type": "stream",
     "text": [
      "which stock are you want to investigate?(Provide its Ticker name) TSLA\n"
     ]
    },
    {
     "name": "stdout",
     "output_type": "stream",
     "text": [
      "TSLA-Total Recommendations counting about your stock:\n",
      "Neutral              78\n",
      "Buy                  69\n",
      "Outperform           42\n",
      "Hold                 39\n",
      "Underperform         34\n",
      "Sell                 29\n",
      "Underweight          29\n",
      "Overweight           28\n",
      "Equal-Weight         19\n",
      "Market Outperform     8\n",
      "Market Perform        8\n",
      "Sector Perform        7\n",
      "                      3\n",
      "In-Line               2\n",
      "Underperformer        1\n",
      "Perform               1\n",
      "Sector Weight         1\n",
      "Peer Perform          1\n",
      "Name: To Grade, dtype: int64\n",
      "\u001b[1mCheck your new text file!\n"
     ]
    }
   ],
   "source": [
    "# The 'Total_Recommendations' function in action:\n",
    "\n",
    "Sample1= input(\"which stock are you want to investigate?(Provide its Ticker name)\")\n",
    "Sample_Stock1= yf.Ticker(Sample1)\n",
    "Total_Recommendations(Sample_Stock1)"
   ]
  },
  {
   "cell_type": "code",
   "execution_count": null,
   "metadata": {},
   "outputs": [],
   "source": []
  }
 ],
 "metadata": {
  "kernelspec": {
   "display_name": "Python 3",
   "language": "python",
   "name": "python3"
  },
  "language_info": {
   "codemirror_mode": {
    "name": "ipython",
    "version": 3
   },
   "file_extension": ".py",
   "mimetype": "text/x-python",
   "name": "python",
   "nbconvert_exporter": "python",
   "pygments_lexer": "ipython3",
   "version": "3.8.5"
  }
 },
 "nbformat": 4,
 "nbformat_minor": 4
}
